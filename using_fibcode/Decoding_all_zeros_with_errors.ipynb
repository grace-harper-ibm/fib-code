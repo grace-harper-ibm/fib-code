{
    "cells": [
        {
            "cell_type": "code",
            "execution_count": 1,
            "metadata": {},
            "outputs": [],
            "source": [
                "import numpy as np\n",
                "import copy\n",
                "from rustworkx.visualization import graphviz_draw\n",
                "from fib_code.classic_fib_code import ClassicFibCode\n",
                "import networkx as nx \n",
                "import rustworkx as rx \n",
                "def mprintboard(matrix, L= 4):\n",
                "    if matrix.shape == ((L**2)//2,):\n",
                "        matrix.shape = (L//2,L)\n",
                "        print('\\n'.join(['\\t'.join([str(cell) for cell in row]) for row in matrix]))\n",
                "        matrix.shape =  ((L**2)//2,)\n",
                "    else:\n",
                "        print('\\n'.join(['\\t'.join([str(cell) for cell in row]) for row in matrix])) \n",
                "    \n",
                "def syn_meas(check_matrix, board):\n",
                "    return np.matmul(check_matrix, board)%2\n",
                "    "
            ]
        },
        {
            "cell_type": "code",
            "execution_count": 2,
            "metadata": {},
            "outputs": [
                {
                    "name": "stdout",
                    "output_type": "stream",
                    "text": [
                        "\n",
                        "Round: 0 w L: 8 and width: 2\n",
                        "yay! success ended with syndrome: 0 w final board having 0 ones tho start with 8 1s\n",
                        "\n",
                        "\n",
                        "Round: 0 w L: 8 and width: 2\n",
                        "yay! success ended with syndrome: 0 w final board having 0 ones tho start with 8 1s\n",
                        "\n",
                        "\n",
                        "Round: 0 w L: 16 and width: 4\n",
                        "yay! success ended with syndrome: 0 w final board having 0 ones tho start with 32 1s\n",
                        "\n",
                        "\n",
                        "Round: 0 w L: 16 and width: 4\n",
                        "yay! success ended with syndrome: 0 w final board having 0 ones tho start with 32 1s\n",
                        "\n",
                        "\n",
                        "Round: 0 w L: 32 and width: 8\n",
                        "yay! success ended with syndrome: 0 w final board having 0 ones tho start with 128 1s\n",
                        "\n",
                        "\n",
                        "Round: 0 w L: 32 and width: 8\n",
                        "yay! success ended with syndrome: 0 w final board having 0 ones tho start with 128 1s\n",
                        "\n"
                    ]
                }
            ],
            "source": [
                "\n",
                "# start just all on the boundary \n",
                "round = 0 \n",
                "for L in [8, 16, 32]:\n",
                "    for swath in range(4,5):\n",
                "        for offset in [L//5, L//10]:\n",
                "            error_board = np.zeros((L//2,L), dtype=int)\n",
                "            width = L//swath \n",
                "            height = L//2 \n",
                "            print()\n",
                "            print(f\"Round: {round} w L: {L} and width: {width}\")\n",
                "            # TODO swaths that start in different places \n",
                "            error_board[:,offset:width + offset] = 1\n",
                "            #print(\"error board: \", error_board)\n",
                "            error_board.shape = ((L**2)//2)\n",
                "            f = ClassicFibCode(L, p=0, error_board_override=error_board)\n",
                "            res, restech = f.decode_fib_code()\n",
                "            f.decode_fib_code()\n",
                "            #node_attr, edge_attr = f.decoder.graph_label_attr_fn()\n",
                "            #print(f\"hori_indx in fund symm: {f.decoder.hori_probe_fault_id}\")\n",
                "            #print(f\"verti_indx in fund symm: {f.decoder.verti_probe_fault_id}\")\n",
                "            #graphviz_draw(f.decoder.matching_graph, edge_attr_fn=edge_attr, node_attr_fn=node_attr)\n",
                "            print(f\"{res} ended with syndrome: {restech[0]} w final board having {(f.board == 1).sum()} ones tho start with {(f.original_errors_board ==1).sum()} 1s\")\n",
                "            # f.original_errors_board.shape = (L//2,L)\n",
                "            # print(f.original_errors_board)\n",
                "            # f.board.shape = (L//2, L)\n",
                "            # print(f.board)\n",
                "            print()"
            ]
        },
        {
            "cell_type": "code",
            "execution_count": null,
            "metadata": {},
            "outputs": [],
            "source": []
        }
    ],
    "metadata": {
        "kernelspec": {
            "display_name": "Python 3.10.6 ('classic_fib')",
            "language": "python",
            "name": "python3"
        },
        "language_info": {
            "codemirror_mode": {
                "name": "ipython",
                "version": 3
            },
            "file_extension": ".py",
            "mimetype": "text/x-python",
            "name": "python",
            "nbconvert_exporter": "python",
            "pygments_lexer": "ipython3",
            "version": "3.10.6"
        },
        "orig_nbformat": 4,
        "vscode": {
            "interpreter": {
                "hash": "0cfd8349d9068e779fdd3d4489e9520d0db8583399452dfa1d4de39e4fa227d6"
            }
        }
    },
    "nbformat": 4,
    "nbformat_minor": 2
}