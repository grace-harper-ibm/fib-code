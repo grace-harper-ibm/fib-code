{
 "cells": [
  {
   "cell_type": "code",
   "execution_count": 1,
   "metadata": {},
   "outputs": [],
   "source": [
    "from fib_code.error_generator import generate_swath_error\n",
    "from fib_code.code_generator import generate_init_code_word\n",
    "from fib_code.classic_fib_code import ClassicFibCode"
   ]
  },
  {
   "cell_type": "code",
   "execution_count": 5,
   "metadata": {},
   "outputs": [
    {
     "name": "stdout",
     "output_type": "stream",
     "text": [
      "[[1 1 0 1 0 1 1 0]\n",
      " [0 1 0 1 0 1 0 0]\n",
      " [0 0 1 1 1 0 0 0]\n",
      " [0 0 0 1 0 0 0 0]]\n",
      "\n",
      "\n",
      "[[1 1 0 0 0 0 0 0]\n",
      " [1 0 0 0 0 0 0 0]\n",
      " [1 1 0 0 0 0 0 0]\n",
      " [1 0 0 0 0 0 0 0]]\n",
      "\n",
      "[[0 0 0 1 0 1 1 0]\n",
      " [1 1 0 1 0 1 0 0]\n",
      " [1 1 1 1 1 0 0 0]\n",
      " [1 0 0 1 0 0 0 0]]\n"
     ]
    }
   ],
   "source": [
    "L = 8 \n",
    "codeword = generate_init_code_word(L)\n",
    "print(codeword)\n",
    "print()\n",
    "error_board, error_mask = generate_swath_error(codeword, L//4, probability_of_error=0.75)\n",
    "print()\n",
    "print(error_mask)\n",
    "print()\n",
    "print(error_board)"
   ]
  },
  {
   "cell_type": "code",
   "execution_count": null,
   "metadata": {},
   "outputs": [],
   "source": []
  }
 ],
 "metadata": {
  "kernelspec": {
   "display_name": "Python 3.10.6 ('classic_fib')",
   "language": "python",
   "name": "python3"
  },
  "language_info": {
   "codemirror_mode": {
    "name": "ipython",
    "version": 3
   },
   "file_extension": ".py",
   "mimetype": "text/x-python",
   "name": "python",
   "nbconvert_exporter": "python",
   "pygments_lexer": "ipython3",
   "version": "3.10.6"
  },
  "orig_nbformat": 4,
  "vscode": {
   "interpreter": {
    "hash": "0cfd8349d9068e779fdd3d4489e9520d0db8583399452dfa1d4de39e4fa227d6"
   }
  }
 },
 "nbformat": 4,
 "nbformat_minor": 2
}
