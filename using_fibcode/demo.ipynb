{
 "cells": [
  {
   "cell_type": "code",
   "execution_count": 1,
   "metadata": {},
   "outputs": [],
   "source": [
    "from fib_code.error_generator import generate_swath_error\n",
    "from fib_code.code_generator import generate_init_code_word\n",
    "from fib_code.classic_fib_decoder import ClassicFibDecoder\n",
    "from fib_code.utils.logging_utils import new_logger_for_classic_fib_code_decoder\n",
    "\n",
    "import logging \n"
   ]
  },
  {
   "cell_type": "code",
   "execution_count": 2,
   "metadata": {},
   "outputs": [
    {
     "name": "stdout",
     "output_type": "stream",
     "text": [
      "l32\n",
      "128\n",
      "512\n"
     ]
    }
   ],
   "source": [
    "\n",
    "L = 32  # choose size of L, board will be size L//2 x L \n",
    "logger = new_logger_for_classic_fib_code_decoder(L, \"bad_times\", logging.DEBUG)\n",
    "\n",
    "codeword = generate_init_code_word(L) # generate an initial codeword. The default one bit at bottom center and cellular automata rules upward\n",
    "error_board, error_mask = generate_swath_error(codeword, L//4, probability_of_error=0.75) # Add errors to your code! \n",
    "\n",
    "f = ClassicFibDecoder(error_board) # give this class the perfect codeword and the errored codeword \n",
    "\n",
    "f.decode_fib_code()\n",
    "f.board.shape = (L//2, L)\n",
    "assert (f.board == codeword).all(), \"sadness\" "
   ]
  }
 ],
 "metadata": {
  "kernelspec": {
   "display_name": "Python 3.10.8 ('tmpfib')",
   "language": "python",
   "name": "python3"
  },
  "language_info": {
   "codemirror_mode": {
    "name": "ipython",
    "version": 3
   },
   "file_extension": ".py",
   "mimetype": "text/x-python",
   "name": "python",
   "nbconvert_exporter": "python",
   "pygments_lexer": "ipython3",
   "version": "3.10.8"
  },
  "orig_nbformat": 4,
  "vscode": {
   "interpreter": {
    "hash": "19f2a8aad4b04b215569ff75381217dfd9f761da4c00fc4f9a7cca21c1499737"
   }
  }
 },
 "nbformat": 4,
 "nbformat_minor": 2
}
