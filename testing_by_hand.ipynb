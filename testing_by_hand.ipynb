{
 "cells": [
  {
   "cell_type": "code",
   "execution_count": 1,
   "metadata": {},
   "outputs": [],
   "source": [
    "from classic_fib import FibCode\n",
    "import numpy as np \n",
    "import networkx as nx \n",
    "\n",
    "def pprint(matrix):\n",
    "    print('\\n'.join(['\\t'.join([str(cell) for cell in row]) for row in matrix]))"
   ]
  },
  {
   "cell_type": "code",
   "execution_count": 2,
   "metadata": {},
   "outputs": [
    {
     "ename": "IndexError",
     "evalue": "index 3 is out of bounds for axis 0 with size 2",
     "output_type": "error",
     "traceback": [
      "\u001b[0;31m---------------------------------------------------------------------------\u001b[0m",
      "\u001b[0;31mIndexError\u001b[0m                                Traceback (most recent call last)",
      "\u001b[1;32m/Users/graceharperibm/correcting/classic_fib_decoder/testing_by_hand.ipynb Cell 2\u001b[0m in \u001b[0;36m<cell line: 2>\u001b[0;34m()\u001b[0m\n\u001b[1;32m      <a href='vscode-notebook-cell:/Users/graceharperibm/correcting/classic_fib_decoder/testing_by_hand.ipynb#W1sZmlsZQ%3D%3D?line=0'>1</a>\u001b[0m L \u001b[39m=\u001b[39m \u001b[39m4\u001b[39m\n\u001b[0;32m----> <a href='vscode-notebook-cell:/Users/graceharperibm/correcting/classic_fib_decoder/testing_by_hand.ipynb#W1sZmlsZQ%3D%3D?line=1'>2</a>\u001b[0m f \u001b[39m=\u001b[39m FibCode(L, p\u001b[39m=\u001b[39;49m\u001b[39m0\u001b[39;49m)\n\u001b[1;32m      <a href='vscode-notebook-cell:/Users/graceharperibm/correcting/classic_fib_decoder/testing_by_hand.ipynb#W1sZmlsZQ%3D%3D?line=2'>3</a>\u001b[0m f\u001b[39m.\u001b[39moriginal_errors_board\u001b[39m.\u001b[39mshape \u001b[39m=\u001b[39m (L\u001b[39m/\u001b[39m\u001b[39m/\u001b[39m\u001b[39m2\u001b[39m, L)\n\u001b[1;32m      <a href='vscode-notebook-cell:/Users/graceharperibm/correcting/classic_fib_decoder/testing_by_hand.ipynb#W1sZmlsZQ%3D%3D?line=3'>4</a>\u001b[0m matrix \u001b[39m=\u001b[39m f\u001b[39m.\u001b[39moriginal_errors_board\n",
      "File \u001b[0;32m~/correcting/classic_fib_decoder/classic_fib.py:43\u001b[0m, in \u001b[0;36mFibCode.__init__\u001b[0;34m(self, L, p, decip, code_bottom_row_start_sequence, pause, error_board_override)\u001b[0m\n\u001b[1;32m     40\u001b[0m \u001b[39mself\u001b[39m\u001b[39m.\u001b[39mpause \u001b[39m=\u001b[39m pause\n\u001b[1;32m     41\u001b[0m \u001b[39m# fund_sym \u001b[39;00m\n\u001b[0;32m---> 43\u001b[0m \u001b[39mself\u001b[39m\u001b[39m.\u001b[39moriginal_code_board \u001b[39m=\u001b[39m \u001b[39mself\u001b[39;49m\u001b[39m.\u001b[39;49m_generate_init_code_word(code_bottom_row_start_sequence)\n\u001b[1;32m     44\u001b[0m \u001b[39mself\u001b[39m\u001b[39m.\u001b[39moriginal_code_board\u001b[39m.\u001b[39mshape \u001b[39m=\u001b[39m \u001b[39mself\u001b[39m\u001b[39m.\u001b[39mno_bits\n\u001b[1;32m     45\u001b[0m \u001b[39mif\u001b[39;00m error_board_override \u001b[39mis\u001b[39;00m \u001b[39mnot\u001b[39;00m \u001b[39mNone\u001b[39;00m:\n",
      "File \u001b[0;32m~/correcting/classic_fib_decoder/classic_fib.py:197\u001b[0m, in \u001b[0;36mFibCode._generate_init_code_word\u001b[0;34m(self, start_arr)\u001b[0m\n\u001b[1;32m    195\u001b[0m \u001b[39mfor\u001b[39;00m row \u001b[39min\u001b[39;00m \u001b[39mrange\u001b[39m( \u001b[39mself\u001b[39m\u001b[39m.\u001b[39mL\u001b[39m/\u001b[39m\u001b[39m/\u001b[39m\u001b[39m2\u001b[39m, \u001b[39m1\u001b[39m, \u001b[39m-\u001b[39m\u001b[39m1\u001b[39m):\n\u001b[1;32m    196\u001b[0m     \u001b[39mfor\u001b[39;00m bit \u001b[39min\u001b[39;00m \u001b[39mrange\u001b[39m(\u001b[39mself\u001b[39m\u001b[39m.\u001b[39mL):\n\u001b[0;32m--> 197\u001b[0m         new_val \u001b[39m=\u001b[39m  rect_board[row \u001b[39m+\u001b[39;49m \u001b[39m1\u001b[39;49m][(bit \u001b[39m-\u001b[39m \u001b[39m1\u001b[39m)\u001b[39m%\u001b[39m\u001b[39mself\u001b[39m\u001b[39m.\u001b[39mL] \u001b[39m^\u001b[39m  rect_board[row \u001b[39m+\u001b[39m \u001b[39m1\u001b[39m][(bit )\u001b[39m%\u001b[39m\u001b[39mself\u001b[39m\u001b[39m.\u001b[39mL] \u001b[39m^\u001b[39m  rect_board[row \u001b[39m+\u001b[39m \u001b[39m1\u001b[39m][(bit \u001b[39m+\u001b[39m \u001b[39m1\u001b[39m)\u001b[39m%\u001b[39m\u001b[39mself\u001b[39m\u001b[39m.\u001b[39mL]\n\u001b[1;32m    198\u001b[0m         rect_board[row][bit] \u001b[39m=\u001b[39m new_val\n\u001b[1;32m    199\u001b[0m \u001b[39mreturn\u001b[39;00m rect_board\n",
      "\u001b[0;31mIndexError\u001b[0m: index 3 is out of bounds for axis 0 with size 2"
     ]
    }
   ],
   "source": [
    "L = 4\n",
    "f = FibCode(L, p=0)\n",
    "f.original_errors_board.shape = (L//2, L)\n",
    "matrix = f.original_errors_board\n",
    "print(matrix)"
   ]
  },
  {
   "cell_type": "code",
   "execution_count": 3,
   "metadata": {},
   "outputs": [
    {
     "name": "stdout",
     "output_type": "stream",
     "text": [
      "0\t1\t0\t0\n",
      "1\t1\t1\t0\n",
      "\n",
      "1\t1\t1\t0\t0\t1\t0\t0\n",
      "1\t0\t0\t0\t1\t1\t0\t1\n",
      "0\t1\t0\t0\t1\t1\t1\t0\n",
      "0\t0\t1\t0\t0\t1\t1\t1\n"
     ]
    }
   ],
   "source": [
    "# f.decode_fib_code()\n",
    "f.fundamental_single_error_syndromes\n",
    "f.fundamental_symmetry.shape = (L//2,L)\n",
    "pprint(f.fundamental_symmetry)\n",
    "print()\n",
    "pprint(f.fundamental_stabilizer_parity_check_matrix)\n",
    "\n"
   ]
  },
  {
   "cell_type": "code",
   "execution_count": 4,
   "metadata": {},
   "outputs": [
    {
     "data": {
      "text/plain": [
       "{(0, 1, 0),\n",
       " (0, 1, 5),\n",
       " (0, 2, 1),\n",
       " (0, 3, 2),\n",
       " (1, 2, 4),\n",
       " (1, 3, 7),\n",
       " (2, 3, 5),\n",
       " (2, 3, 6)}"
      ]
     },
     "execution_count": 4,
     "metadata": {},
     "output_type": "execute_result"
    }
   ],
   "source": [
    "f.generate_all_possible_error_syndromes(f.fundamental_stabilizer_parity_check_matrix)"
   ]
  },
  {
   "cell_type": "code",
   "execution_count": 8,
   "metadata": {},
   "outputs": [
    {
     "name": "stdout",
     "output_type": "stream",
     "text": [
      "0\t1\t0\t0\n",
      "1\t1\t1\t0\n"
     ]
    }
   ],
   "source": [
    "f.original_code_board.shape = (L//2, L)\n",
    "pprint(f.original_code_board)"
   ]
  },
  {
   "cell_type": "code",
   "execution_count": null,
   "metadata": {},
   "outputs": [],
   "source": []
  },
  {
   "cell_type": "markdown",
   "metadata": {},
   "source": []
  }
 ],
 "metadata": {
  "kernelspec": {
   "display_name": "Python 3.10.6 ('classic_fib')",
   "language": "python",
   "name": "python3"
  },
  "language_info": {
   "codemirror_mode": {
    "name": "ipython",
    "version": 3
   },
   "file_extension": ".py",
   "mimetype": "text/x-python",
   "name": "python",
   "nbconvert_exporter": "python",
   "pygments_lexer": "ipython3",
   "version": "3.10.6"
  },
  "orig_nbformat": 4,
  "vscode": {
   "interpreter": {
    "hash": "0cfd8349d9068e779fdd3d4489e9520d0db8583399452dfa1d4de39e4fa227d6"
   }
  }
 },
 "nbformat": 4,
 "nbformat_minor": 2
}
