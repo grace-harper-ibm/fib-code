{
 "cells": [
  {
   "cell_type": "code",
   "execution_count": 4,
   "metadata": {},
   "outputs": [],
   "source": [
    "from classic_fib import FibCode\n",
    "import numpy as np \n",
    "import networkx as nx "
   ]
  },
  {
   "cell_type": "code",
   "execution_count": 5,
   "metadata": {},
   "outputs": [],
   "source": [
    "L = 8\n",
    "f = FibCode(L, p=0.05)"
   ]
  },
  {
   "cell_type": "code",
   "execution_count": 7,
   "metadata": {},
   "outputs": [
    {
     "data": {
      "text/plain": [
       "{(0, 9, 3),\n",
       " (1, 2, 10),\n",
       " (2, 3, 12),\n",
       " (2, 5, 19),\n",
       " (5, 9, 27),\n",
       " (7, 8, 24),\n",
       " (7, 11, 31),\n",
       " (8, 9, 26),\n",
       " (9, 10, 28),\n",
       " (10, 11, 30)}"
      ]
     },
     "execution_count": 7,
     "metadata": {},
     "output_type": "execute_result"
    }
   ],
   "source": [
    "f.fundamental_single_error_syndromes"
   ]
  },
  {
   "cell_type": "code",
   "execution_count": 11,
   "metadata": {},
   "outputs": [
    {
     "name": "stdout",
     "output_type": "stream",
     "text": [
      "0\t0\t0\t1\t0\t0\t0\t0\n",
      "0\t0\t1\t1\t1\t0\t0\t0\n",
      "0\t1\t0\t1\t0\t0\t0\t0\n",
      "1\t1\t0\t1\t0\t1\t1\t0\n"
     ]
    }
   ],
   "source": [
    "f.original_errors_board.shape = [4,8]\n",
    "matrix = f.original_errors_board\n",
    "print('\\n'.join(['\\t'.join([str(cell) for cell in row]) for row in matrix]))\n"
   ]
  },
  {
   "cell_type": "markdown",
   "metadata": {},
   "source": []
  }
 ],
 "metadata": {
  "kernelspec": {
   "display_name": "Python 3.10.6 ('classic_fib')",
   "language": "python",
   "name": "python3"
  },
  "language_info": {
   "codemirror_mode": {
    "name": "ipython",
    "version": 3
   },
   "file_extension": ".py",
   "mimetype": "text/x-python",
   "name": "python",
   "nbconvert_exporter": "python",
   "pygments_lexer": "ipython3",
   "version": "3.10.6"
  },
  "orig_nbformat": 4,
  "vscode": {
   "interpreter": {
    "hash": "0cfd8349d9068e779fdd3d4489e9520d0db8583399452dfa1d4de39e4fa227d6"
   }
  }
 },
 "nbformat": 4,
 "nbformat_minor": 2
}
