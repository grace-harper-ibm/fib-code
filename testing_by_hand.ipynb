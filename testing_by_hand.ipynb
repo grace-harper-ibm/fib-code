{
 "cells": [
  {
   "cell_type": "code",
   "execution_count": 28,
   "metadata": {},
   "outputs": [],
   "source": [
    "from classic_fib import FibCode\n",
    "import numpy as np \n",
    "import networkx as nx \n",
    "\n",
    "def pprint(matrix):\n",
    "    print('\\n'.join(['\\t'.join([str(cell) for cell in row]) for row in matrix]))"
   ]
  },
  {
   "cell_type": "code",
   "execution_count": 36,
   "metadata": {},
   "outputs": [
    {
     "name": "stdout",
     "output_type": "stream",
     "text": [
      "[[0 1 1 1]\n",
      " [1 0 1 0]]\n"
     ]
    }
   ],
   "source": [
    "\n",
    "\n",
    "L = 4\n",
    "eboard = np.zeros((L**2)//2, dtype = int)\n",
    "eboard[1:4] = 1\n",
    "eboard[6] = 1 \n",
    "eboard[4] = 1\n",
    "\n",
    "f = FibCode(L, p=0, error_board_override=eboard)\n",
    "f.original_errors_board.shape = (L//2, L)\n",
    "matrix = f.original_errors_board\n",
    "print(matrix)"
   ]
  },
  {
   "cell_type": "code",
   "execution_count": 43,
   "metadata": {},
   "outputs": [
    {
     "name": "stdout",
     "output_type": "stream",
     "text": [
      "0\t1\t0\t0\n",
      "1\t1\t1\t0\n",
      "\n",
      "1\t1\t1\t0\t0\t1\t0\t0\n",
      "1\t0\t0\t0\t1\t1\t0\t1\n",
      "0\t1\t0\t0\t1\t1\t1\t0\n",
      "0\t0\t1\t0\t0\t1\t1\t1\n",
      "[[1 1 1 0 0 1 0 0]\n",
      " [1 0 0 0 1 1 0 1]\n",
      " [0 1 0 0 1 1 1 0]\n",
      " [0 0 1 0 0 1 1 1]]\n"
     ]
    }
   ],
   "source": [
    "# f.decode_fib_code()\n",
    "f.fundamental_single_error_syndromes\n",
    "f.fundamental_symmetry.shape = (L//2,L)\n",
    "pprint(f.fundamental_symmetry)\n",
    "print()\n",
    "pprint(f.fundamental_stabilizer_parity_check_matrix)\n",
    "\n",
    "print(f.fundamental_stabilizer_parity_check_matrix)\n",
    "\n"
   ]
  },
  {
   "cell_type": "code",
   "execution_count": 38,
   "metadata": {},
   "outputs": [
    {
     "data": {
      "text/plain": [
       "{(0, 1, 0),\n",
       " (0, 1, 5),\n",
       " (0, 2, 1),\n",
       " (0, 3, 2),\n",
       " (1, 2, 4),\n",
       " (1, 3, 7),\n",
       " (2, 3, 5),\n",
       " (2, 3, 6)}"
      ]
     },
     "execution_count": 38,
     "metadata": {},
     "output_type": "execute_result"
    }
   ],
   "source": [
    "f.generate_all_possible_error_syndromes(f.fundamental_stabilizer_parity_check_matrix)"
   ]
  },
  {
   "cell_type": "code",
   "execution_count": 39,
   "metadata": {},
   "outputs": [
    {
     "name": "stdout",
     "output_type": "stream",
     "text": [
      "0\t0\t0\t0\n",
      "0\t0\t0\t0\n"
     ]
    }
   ],
   "source": [
    "f.original_code_board.shape = (L//2, L)\n",
    "pprint(f.original_code_board)"
   ]
  },
  {
   "cell_type": "code",
   "execution_count": 40,
   "metadata": {},
   "outputs": [
    {
     "data": {
      "text/plain": [
       "'yay!!'"
      ]
     },
     "execution_count": 40,
     "metadata": {},
     "output_type": "execute_result"
    }
   ],
   "source": [
    "f.decode_fib_code()"
   ]
  },
  {
   "cell_type": "code",
   "execution_count": 41,
   "metadata": {},
   "outputs": [
    {
     "data": {
      "text/plain": [
       "array([[0, 1, 1, 1],\n",
       "       [1, 0, 1, 0]])"
      ]
     },
     "execution_count": 41,
     "metadata": {},
     "output_type": "execute_result"
    }
   ],
   "source": [
    "f.board\n",
    "f.original_errors_board\n",
    "\n"
   ]
  },
  {
   "cell_type": "markdown",
   "metadata": {},
   "source": []
  }
 ],
 "metadata": {
  "kernelspec": {
   "display_name": "Python 3.10.6 ('classic_fib')",
   "language": "python",
   "name": "python3"
  },
  "language_info": {
   "codemirror_mode": {
    "name": "ipython",
    "version": 3
   },
   "file_extension": ".py",
   "mimetype": "text/x-python",
   "name": "python",
   "nbconvert_exporter": "python",
   "pygments_lexer": "ipython3",
   "version": "3.10.6"
  },
  "orig_nbformat": 4,
  "vscode": {
   "interpreter": {
    "hash": "0cfd8349d9068e779fdd3d4489e9520d0db8583399452dfa1d4de39e4fa227d6"
   }
  }
 },
 "nbformat": 4,
 "nbformat_minor": 2
}
