{
 "cells": [
  {
   "cell_type": "code",
   "execution_count": 72,
   "metadata": {},
   "outputs": [],
   "source": [
    "import numpy as np\n",
    "import copy\n",
    "from classic_fib import FibCode\n",
    "\n",
    "def mprintboard(matrix, L= 4):\n",
    "    if matrix.shape == ((L**2)//2,):\n",
    "        matrix.shape = (L//2,L)\n",
    "        print('\\n'.join(['\\t'.join([str(cell) for cell in row]) for row in matrix]))\n",
    "        matrix.shape =  ((L**2)//2,)\n",
    "    else:\n",
    "        print('\\n'.join(['\\t'.join([str(cell) for cell in row]) for row in matrix])) \n",
    "    \n",
    "def syn_meas(check_matrix, board):\n",
    "    return np.matmul(check_matrix, board)%2\n",
    "    "
   ]
  },
  {
   "cell_type": "code",
   "execution_count": 52,
   "metadata": {},
   "outputs": [
    {
     "name": "stdout",
     "output_type": "stream",
     "text": [
      "Codeword:\n",
      "0\t1\t1\t1\n",
      "0\t0\t1\t0\n",
      "(8,)\n",
      "W/ Error\n",
      "0\t1\t1\t1\n",
      "1\t0\t1\t0\n"
     ]
    }
   ],
   "source": [
    "\n",
    "codeword = np.zeros(8, dtype = int)\n",
    "codeword[1:4] = 1\n",
    "codeword[6] = 1\n",
    "print(\"Codeword:\")\n",
    "mprintboard(codeword)\n",
    "print(codeword.shape)\n",
    "\n",
    "werror = copy.deepcopy(codeword)\n",
    "werror[4] = 1\n",
    "print(\"W/ Error\")\n",
    "mprintboard(werror)\n"
   ]
  },
  {
   "cell_type": "code",
   "execution_count": 53,
   "metadata": {},
   "outputs": [
    {
     "data": {
      "text/plain": [
       "(4, 8)"
      ]
     },
     "execution_count": 53,
     "metadata": {},
     "output_type": "execute_result"
    }
   ],
   "source": [
    "fstabilizer = np.array([[1,1,1,0,0,1,0,0],\n",
    " [1,0,0,0,1,1,0,1],\n",
    " [0,1,0,0,1,1,1,0],\n",
    " [0,0,1,0,0,1,1,1]], dtype=int)\n",
    "\n",
    "werror.shape = (8,)\n",
    "\n",
    "fund_syndr = syn_meas(fstabilizer, werror)\n",
    "\n",
    "fstabilizer.shape\n",
    "\n"
   ]
  },
  {
   "cell_type": "code",
   "execution_count": 88,
   "metadata": {},
   "outputs": [],
   "source": [
    "L = 8\n",
    "f = FibCode(L)\n",
    "hori_stab_faces = copy.deepcopy(f.fundamental_symmetry)\n",
    "verti_stab_faces = copy.deepcopy(f.fundamental_symmetry)"
   ]
  },
  {
   "cell_type": "code",
   "execution_count": 89,
   "metadata": {},
   "outputs": [
    {
     "name": "stdout",
     "output_type": "stream",
     "text": [
      "0\t0\t0\t1\t0\t0\t0\t0\n",
      "0\t0\t1\t1\t1\t0\t0\t0\n",
      "0\t1\t0\t1\t0\t1\t0\t0\n",
      "1\t1\t0\t1\t0\t1\t1\t0\n",
      "\n",
      "0\t1\t1\t0\t1\t0\t1\t1\n",
      "0\t0\t0\t0\t1\t0\t0\t0\n",
      "0\t0\t0\t1\t1\t1\t0\t0\n",
      "0\t0\t1\t0\t1\t0\t1\t0\n"
     ]
    }
   ],
   "source": [
    "hori_stab_faces.shape = (f.L**2)//2 # how bad is this \n",
    "verti_stab_faces.shape = (f.L**2)//2 # how bad is this \n",
    "\n",
    "mprintboard(verti_stab_faces, L=L)\n",
    "print()\n",
    "tmp = f.shift_by_x(verti_stab_faces, 1)\n",
    "tmp = f.shift_by_y(tmp,1)\n",
    "tmp.shape = (L//2,L)\n",
    "mprintboard(tmp)"
   ]
  },
  {
   "cell_type": "code",
   "execution_count": null,
   "metadata": {},
   "outputs": [],
   "source": []
  }
 ],
 "metadata": {
  "kernelspec": {
   "display_name": "Python 3.10.6 ('classic_fib')",
   "language": "python",
   "name": "python3"
  },
  "language_info": {
   "codemirror_mode": {
    "name": "ipython",
    "version": 3
   },
   "file_extension": ".py",
   "mimetype": "text/x-python",
   "name": "python",
   "nbconvert_exporter": "python",
   "pygments_lexer": "ipython3",
   "version": "3.10.6"
  },
  "orig_nbformat": 4,
  "vscode": {
   "interpreter": {
    "hash": "0cfd8349d9068e779fdd3d4489e9520d0db8583399452dfa1d4de39e4fa227d6"
   }
  }
 },
 "nbformat": 4,
 "nbformat_minor": 2
}
