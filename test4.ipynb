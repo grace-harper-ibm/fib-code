{
 "cells": [
  {
   "cell_type": "code",
   "execution_count": 1,
   "metadata": {},
   "outputs": [],
   "source": [
    "import numpy as np\n",
    "import copy\n",
    "from classic_fib import FibCode\n",
    "import networkx as nx \n",
    "import rustworkx as rx \n",
    "def mprintboard(matrix, L= 4):\n",
    "    if matrix.shape == ((L**2)//2,):\n",
    "        matrix.shape = (L//2,L)\n",
    "        print('\\n'.join(['\\t'.join([str(cell) for cell in row]) for row in matrix]))\n",
    "        matrix.shape =  ((L**2)//2,)\n",
    "    else:\n",
    "        print('\\n'.join(['\\t'.join([str(cell) for cell in row]) for row in matrix])) \n",
    "    \n",
    "def syn_meas(check_matrix, board):\n",
    "    return np.matmul(check_matrix, board)%2\n",
    "    "
   ]
  },
  {
   "cell_type": "code",
   "execution_count": 2,
   "metadata": {},
   "outputs": [
    {
     "name": "stdout",
     "output_type": "stream",
     "text": [
      "Codeword:\n",
      "0\t1\t1\t1\n",
      "0\t0\t1\t0\n",
      "(8,)\n",
      "W/ Error\n",
      "0\t1\t1\t1\n",
      "1\t0\t1\t0\n"
     ]
    }
   ],
   "source": [
    "\n",
    "codeword = np.zeros(8, dtype = int)\n",
    "codeword[1:4] = 1\n",
    "codeword[6] = 1\n",
    "print(\"Codeword:\")\n",
    "mprintboard(codeword)\n",
    "print(codeword.shape)\n",
    "\n",
    "werror = copy.deepcopy(codeword)\n",
    "werror[4] = 1\n",
    "print(\"W/ Error\")\n",
    "mprintboard(werror)\n"
   ]
  },
  {
   "cell_type": "code",
   "execution_count": 3,
   "metadata": {},
   "outputs": [],
   "source": [
    "fstabilizer = np.array([[1,1,1,0,0,1,0,0],\n",
    " [1,0,0,0,1,1,0,1],\n",
    " [0,1,0,0,1,1,1,0],\n",
    " [0,0,1,0,0,1,1,1]], dtype=int)\n",
    "\n",
    "werror.shape = (8,)"
   ]
  },
  {
   "cell_type": "code",
   "execution_count": 4,
   "metadata": {},
   "outputs": [],
   "source": [
    "L = 4\n",
    "f = FibCode(L) \n",
    "\n",
    "fund_syndr = f._calc_syndrome(fstabilizer, werror)"
   ]
  },
  {
   "cell_type": "code",
   "execution_count": 5,
   "metadata": {},
   "outputs": [],
   "source": [
    "hori_stab_faces = copy.deepcopy(f.fundamental_symmetry)\n",
    "hori_stab_faces.shape = (f.L**2)//2 #\n",
    "hori_stab_faces = f.shift_by_x(f.shift_by_y(hori_stab_faces),  power=(-f.L//2) + 1)\n",
    "hori_stab_faces_rect = np.reshape(hori_stab_faces, (f.L//2, f.L))\n",
    "hori_check_matrix, hori_parity_rows_to_faces  = f.generate_check_matrix_from_faces(hori_stab_faces_rect)  # TODO make a special +y/x for check mats"
   ]
  },
  {
   "cell_type": "code",
   "execution_count": 6,
   "metadata": {},
   "outputs": [
    {
     "name": "stdout",
     "output_type": "stream",
     "text": [
      "0\n",
      "1\n",
      "2\n",
      "3\n",
      "4\n",
      "5\n",
      "6\n",
      "7\n",
      "MultiGraph with 4 nodes and 8 edges\n"
     ]
    }
   ],
   "source": [
    "hori_matching_graph = f.ret2net(f.generate_error_syndrome_graph(hori_check_matrix, f.no_bits))\n",
    "\n",
    "print(hori_matching_graph)"
   ]
  },
  {
   "cell_type": "code",
   "execution_count": 7,
   "metadata": {},
   "outputs": [],
   "source": [
    "import pymatching as pm\n",
    "\n",
    "hori_matching = pm.Matching(hori_matching_graph) # TODO add weights "
   ]
  },
  {
   "cell_type": "code",
   "execution_count": 8,
   "metadata": {},
   "outputs": [
    {
     "name": "stdout",
     "output_type": "stream",
     "text": [
      "[1 0 0 1]\n"
     ]
    }
   ],
   "source": [
    "hori_syndrome_mat = f._calc_syndrome(hori_check_matrix, werror)\n",
    "print(hori_syndrome_mat)"
   ]
  },
  {
   "cell_type": "code",
   "execution_count": 9,
   "metadata": {},
   "outputs": [],
   "source": [
    "hori_net = hori_matching.to_networkx()"
   ]
  },
  {
   "cell_type": "code",
   "execution_count": 10,
   "metadata": {},
   "outputs": [
    {
     "data": {
      "image/png": "[encoded data removed]",
      "text/plain": [
       "<Figure size 640x480 with 1 Axes>"
      ]
     },
     "metadata": {},
     "output_type": "display_data"
    }
   ],
   "source": [
    "nx.draw_networkx(hori_net)"
   ]
  },
  {
   "cell_type": "markdown",
   "metadata": {},
   "source": []
  },
  {
   "cell_type": "code",
   "execution_count": 11,
   "metadata": {},
   "outputs": [
    {
     "data": {
      "text/plain": [
       "8"
      ]
     },
     "execution_count": 11,
     "metadata": {},
     "output_type": "execute_result"
    }
   ],
   "source": [
    "len(f.fundamental_single_error_syndromes)"
   ]
  },
  {
   "cell_type": "code",
   "execution_count": 12,
   "metadata": {},
   "outputs": [
    {
     "data": {
      "text/plain": [
       "6"
      ]
     },
     "execution_count": 12,
     "metadata": {},
     "output_type": "execute_result"
    }
   ],
   "source": [
    "len(nx.edges(hori_net))"
   ]
  },
  {
   "cell_type": "code",
   "execution_count": 13,
   "metadata": {},
   "outputs": [
    {
     "name": "stdout",
     "output_type": "stream",
     "text": [
      "[]\n"
     ]
    }
   ],
   "source": [
    "hori_prediction = hori_matching.decode(hori_syndrome_mat) \n",
    "print(hori_prediction)"
   ]
  },
  {
   "cell_type": "code",
   "execution_count": 27,
   "metadata": {},
   "outputs": [],
   "source": [
    "nxgraph = hori_matching.to_networkx()"
   ]
  },
  {
   "cell_type": "code",
   "execution_count": 29,
   "metadata": {},
   "outputs": [
    {
     "data": {
      "text/plain": [
       "6"
      ]
     },
     "execution_count": 29,
     "metadata": {},
     "output_type": "execute_result"
    }
   ],
   "source": [
    "len(nxgraph.edges)"
   ]
  },
  {
   "cell_type": "code",
   "execution_count": null,
   "metadata": {},
   "outputs": [],
   "source": []
  }
 ],
 "metadata": {
  "kernelspec": {
   "display_name": "Python 3.10.6 ('classic_fib')",
   "language": "python",
   "name": "python3"
  },
  "language_info": {
   "codemirror_mode": {
    "name": "ipython",
    "version": 3
   },
   "file_extension": ".py",
   "mimetype": "text/x-python",
   "name": "python",
   "nbconvert_exporter": "python",
   "pygments_lexer": "ipython3",
   "version": "3.10.6"
  },
  "orig_nbformat": 4,
  "vscode": {
   "interpreter": {
    "hash": "0cfd8349d9068e779fdd3d4489e9520d0db8583399452dfa1d4de39e4fa227d6"
   }
  }
 },
 "nbformat": 4,
 "nbformat_minor": 2
}
