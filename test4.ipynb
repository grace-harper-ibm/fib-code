{
 "cells": [
  {
   "cell_type": "code",
   "execution_count": 2,
   "metadata": {},
   "outputs": [],
   "source": [
    "import numpy as np\n",
    "import copy\n",
    "from classic_fib import FibCode\n",
    "import networkx as nx \n",
    "import rustworkx as rx \n",
    "def mprintboard(matrix, L= 4):\n",
    "    if matrix.shape == ((L**2)//2,):\n",
    "        matrix.shape = (L//2,L)\n",
    "        print('\\n'.join(['\\t'.join([str(cell) for cell in row]) for row in matrix]))\n",
    "        matrix.shape =  ((L**2)//2,)\n",
    "    else:\n",
    "        print('\\n'.join(['\\t'.join([str(cell) for cell in row]) for row in matrix])) \n",
    "    \n",
    "def syn_meas(check_matrix, board):\n",
    "    return np.matmul(check_matrix, board)%2\n",
    "    "
   ]
  },
  {
   "cell_type": "code",
   "execution_count": 14,
   "metadata": {},
   "outputs": [],
   "source": [
    "L=4\n",
    "f = FibCode(L)\n",
    "len(f.all_stabs_check_mat)\n",
    "hori_stab_faces = copy.deepcopy(f.fundamental_symmetry)\n",
    "verti_stab_faces = copy.deepcopy(f.fundamental_symmetry)\n",
    "hori_stab_faces = f.shift_by_x(f.shift_by_y(hori_stab_faces),  power=(-f.L//2) + 1)\n",
    "verti_stab_faces = f.shift_by_x(f.shift_by_y(hori_stab_faces))\n",
    "\n",
    "hori_stab_faces.shape = (L//2,L)\n",
    "verti_stab_faces.shape = (L//2,L)\n",
    "\n",
    "hori_pairity_mat, _ = f.generate_check_matrix_from_faces(hori_stab_faces)\n",
    "verti_pairity_mat,_ = f.generate_check_matrix_from_faces(verti_stab_faces)\n"
   ]
  },
  {
   "cell_type": "code",
   "execution_count": 15,
   "metadata": {},
   "outputs": [
    {
     "name": "stdout",
     "output_type": "stream",
     "text": [
      "[[1 1 0 1 1 0 0 0]\n",
      " [1 1 1 0 0 1 0 0]\n",
      " [1 0 1 1 0 0 0 1]\n",
      " [1 0 0 0 1 1 0 1]]\n"
     ]
    }
   ],
   "source": [
    "print(hori_pairity_mat)"
   ]
  },
  {
   "cell_type": "code",
   "execution_count": 16,
   "metadata": {},
   "outputs": [
    {
     "name": "stdout",
     "output_type": "stream",
     "text": [
      "[[1 1 1 0 0 1 0 0]\n",
      " [0 1 1 1 0 0 1 0]\n",
      " [1 1 0 1 1 0 0 0]\n",
      " [0 1 0 0 1 1 1 0]]\n"
     ]
    }
   ],
   "source": [
    "for row in range(len(hori_pairity_mat)):\n",
    "    hori_pairity_mat[row] = f.shift_by_x(hori_pairity_mat[row])\n",
    "print(hori_pairity_mat)"
   ]
  },
  {
   "cell_type": "code",
   "execution_count": null,
   "metadata": {},
   "outputs": [],
   "source": []
  }
 ],
 "metadata": {
  "kernelspec": {
   "display_name": "Python 3.10.6 ('classic_fib')",
   "language": "python",
   "name": "python3"
  },
  "language_info": {
   "codemirror_mode": {
    "name": "ipython",
    "version": 3
   },
   "file_extension": ".py",
   "mimetype": "text/x-python",
   "name": "python",
   "nbconvert_exporter": "python",
   "pygments_lexer": "ipython3",
   "version": "3.10.6"
  },
  "orig_nbformat": 4,
  "vscode": {
   "interpreter": {
    "hash": "0cfd8349d9068e779fdd3d4489e9520d0db8583399452dfa1d4de39e4fa227d6"
   }
  }
 },
 "nbformat": 4,
 "nbformat_minor": 2
}
