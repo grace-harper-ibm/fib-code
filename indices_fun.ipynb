{
 "cells": [
  {
   "cell_type": "code",
   "execution_count": 1,
   "metadata": {},
   "outputs": [],
   "source": [
    "from classic_fib import FibCode\n",
    "import numpy as np \n"
   ]
  },
  {
   "cell_type": "code",
   "execution_count": 2,
   "metadata": {},
   "outputs": [],
   "source": [
    "f = FibCode(4)\n",
    "fundamental_stab_faces, fundamental_check_matrix, fund_error_pairs, fund_matching_graph = f.decode_fib_code()"
   ]
  },
  {
   "cell_type": "code",
   "execution_count": 3,
   "metadata": {},
   "outputs": [
    {
     "name": "stdout",
     "output_type": "stream",
     "text": [
      "[[0 1 0 0]\n",
      " [1 1 1 0]]\n",
      "\n",
      "[[1 1 1 0 0 1 0 0]\n",
      " [1 0 0 0 1 1 0 1]\n",
      " [0 1 0 0 1 1 1 0]\n",
      " [0 0 1 0 0 1 1 1]]\n",
      "\n",
      "(0, 1, 0)\n",
      "(0, 2, 1)\n",
      "(0, 3, 2)\n",
      "(1, 2, 4)\n",
      "(2, 3, 5)\n",
      "(0, 1, 5)\n",
      "(2, 3, 6)\n",
      "(1, 3, 7)\n"
     ]
    }
   ],
   "source": [
    "print(fundamental_stab_faces)\n",
    "print()\n",
    "print(fundamental_check_matrix)\n",
    "print()\n",
    "for elem in sorted(list(fund_error_pairs),key=lambda x: x[-1]):\n",
    "    print(elem)\n"
   ]
  },
  {
   "cell_type": "code",
   "execution_count": 16,
   "metadata": {},
   "outputs": [
    {
     "data": {
      "text/plain": [
       "<rustworkx.PyGraph at 0x7f8988a8af40>"
      ]
     },
     "execution_count": 16,
     "metadata": {},
     "output_type": "execute_result"
    }
   ],
   "source": [
    "fund_matching_graph."
   ]
  },
  {
   "cell_type": "code",
   "execution_count": null,
   "metadata": {},
   "outputs": [],
   "source": []
  }
 ],
 "metadata": {
  "kernelspec": {
   "display_name": "Python 3.10.6 ('classic_fib')",
   "language": "python",
   "name": "python3"
  },
  "language_info": {
   "codemirror_mode": {
    "name": "ipython",
    "version": 3
   },
   "file_extension": ".py",
   "mimetype": "text/x-python",
   "name": "python",
   "nbconvert_exporter": "python",
   "pygments_lexer": "ipython3",
   "version": "3.10.6"
  },
  "orig_nbformat": 4,
  "vscode": {
   "interpreter": {
    "hash": "0cfd8349d9068e779fdd3d4489e9520d0db8583399452dfa1d4de39e4fa227d6"
   }
  }
 },
 "nbformat": 4,
 "nbformat_minor": 2
}
