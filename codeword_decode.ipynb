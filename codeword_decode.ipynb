{
 "cells": [
  {
   "cell_type": "code",
   "execution_count": 1,
   "metadata": {},
   "outputs": [
    {
     "name": "stdout",
     "output_type": "stream",
     "text": [
      "codeword\n",
      "[[1 1 0 1 0 1 1 0]\n",
      " [0 1 0 1 0 1 0 0]\n",
      " [0 0 1 1 1 0 0 0]\n",
      " [0 0 0 1 0 0 0 0]]\n",
      "\n",
      "error board\n",
      "[[1 1 0 1 0 1 1 0]\n",
      " [1 1 0 1 0 1 0 0]\n",
      " [1 1 1 1 1 0 0 0]\n",
      " [1 1 0 1 0 0 0 0]]\n"
     ]
    }
   ],
   "source": [
    "from classic_fib import FibCode\n",
    "import numpy as np \n",
    "import copy\n",
    "\n",
    "L = 8 \n",
    "start_arr = np.zeros(L, dtype=int)\n",
    "codeword = FibCode.generate_init_code_word(L)\n",
    "print(\"codeword\")\n",
    "print(codeword)\n",
    "print()\n",
    "\n",
    "\n",
    "error_board = copy.deepcopy(codeword)\n",
    "offset = 0 \n",
    "width = L//4\n",
    "error_board[:,offset:width + offset] = 1\n",
    "print(\"error board\")\n",
    "print(error_board)"
   ]
  },
  {
   "cell_type": "code",
   "execution_count": 2,
   "metadata": {},
   "outputs": [],
   "source": [
    "f = FibCode(L=L, original_code_board=codeword, original_errors_board=error_board)"
   ]
  },
  {
   "cell_type": "code",
   "execution_count": 3,
   "metadata": {},
   "outputs": [],
   "source": [
    "res, info = f.decode_fib_code()"
   ]
  },
  {
   "cell_type": "code",
   "execution_count": 4,
   "metadata": {},
   "outputs": [
    {
     "data": {
      "text/plain": [
       "'yay! success'"
      ]
     },
     "execution_count": 4,
     "metadata": {},
     "output_type": "execute_result"
    }
   ],
   "source": [
    "res"
   ]
  },
  {
   "cell_type": "code",
   "execution_count": 5,
   "metadata": {},
   "outputs": [
    {
     "data": {
      "text/plain": [
       "[0,\n",
       " array([1, 1, 0, 1, 0, 1, 1, 0, 0, 1, 0, 1, 0, 1, 0, 0, 0, 0, 1, 1, 1, 0,\n",
       "        0, 0, 0, 0, 0, 1, 0, 0, 0, 0]),\n",
       " 'hori']"
      ]
     },
     "execution_count": 5,
     "metadata": {},
     "output_type": "execute_result"
    }
   ],
   "source": [
    "info"
   ]
  },
  {
   "cell_type": "code",
   "execution_count": 8,
   "metadata": {},
   "outputs": [
    {
     "name": "stdout",
     "output_type": "stream",
     "text": [
      "[[1 1 0 1 0 1 1 0]\n",
      " [0 1 0 1 0 1 0 0]\n",
      " [0 0 1 1 1 0 0 0]\n",
      " [0 0 0 1 0 0 0 0]]\n"
     ]
    }
   ],
   "source": [
    "f.board.shape = (L//2, L)\n",
    "print(f.board)"
   ]
  },
  {
   "cell_type": "code",
   "execution_count": null,
   "metadata": {},
   "outputs": [],
   "source": []
  }
 ],
 "metadata": {
  "kernelspec": {
   "display_name": "Python 3.10.6 ('classic_fib')",
   "language": "python",
   "name": "python3"
  },
  "language_info": {
   "codemirror_mode": {
    "name": "ipython",
    "version": 3
   },
   "file_extension": ".py",
   "mimetype": "text/x-python",
   "name": "python",
   "nbconvert_exporter": "python",
   "pygments_lexer": "ipython3",
   "version": "3.10.6"
  },
  "orig_nbformat": 4,
  "vscode": {
   "interpreter": {
    "hash": "0cfd8349d9068e779fdd3d4489e9520d0db8583399452dfa1d4de39e4fa227d6"
   }
  }
 },
 "nbformat": 4,
 "nbformat_minor": 2
}
