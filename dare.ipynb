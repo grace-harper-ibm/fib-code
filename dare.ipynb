{
 "cells": [
  {
   "cell_type": "code",
   "execution_count": 1,
   "metadata": {},
   "outputs": [],
   "source": [
    "from classic_fib import FibCode\n",
    "import numpy as np "
   ]
  },
  {
   "cell_type": "code",
   "execution_count": 2,
   "metadata": {},
   "outputs": [
    {
     "name": "stdout",
     "output_type": "stream",
     "text": [
      " original code baord is  [0 0 1 0 0 1 1 1]\n",
      " error board is code [0 0 1 0 0 1 1 1]\n",
      " initial symmetry is: [0 0 1 0 0 1 1 1]\n",
      "fundamental_stabilizer_parity_check_matrix is : [[0 1 1 1 0 0 1 0]\n",
      " [0 1 0 0 1 1 1 0]\n",
      " [0 0 1 0 0 1 1 1]\n",
      " [0 0 0 1 1 0 1 1]]\n",
      "fundamental_matching_graph is : {(2, 3, 6), (1, 3, 4), (0, 3, 3), (0, 1, 6), (1, 2, 5), (2, 3, 7), (0, 2, 2), (0, 1, 1)}\n",
      " Hx [[0 0 0 1 0 0 0 0]\n",
      " [1 0 0 0 0 0 0 0]\n",
      " [0 1 0 0 0 0 0 0]\n",
      " [0 0 1 0 0 0 0 0]\n",
      " [0 0 0 0 0 0 0 1]\n",
      " [0 0 0 0 1 0 0 0]\n",
      " [0 0 0 0 0 1 0 0]\n",
      " [0 0 0 0 0 0 1 0]]\n",
      " Hy is code [[0 0 0 0 1 0 0 0]\n",
      " [0 0 0 0 0 1 0 0]\n",
      " [0 0 0 0 0 0 1 0]\n",
      " [0 0 0 0 0 0 0 1]\n",
      " [1 0 0 0 0 0 0 0]\n",
      " [0 1 0 0 0 0 0 0]\n",
      " [0 0 1 0 0 0 0 0]\n",
      " [0 0 0 1 0 0 0 0]]\n"
     ]
    }
   ],
   "source": [
    "f = FibCode(4)\n",
    "\n",
    "print(f\" original code baord is  {f.original_code_board}\")\n",
    "print(f\" error board is code {f.board}\")\n",
    "print(f\" initial symmetry is: {f.fundamental_symmetry}\")\n",
    "print(f\"fundamental_stabilizer_parity_check_matrix is : {f.fundamental_stabilizer_parity_check_matrix}\")\n",
    "print(f\"fundamental_matching_graph is : {f.fundamental_matching_graph}\")\n",
    "print(f\" Hx {f.Hx}\")\n",
    "print(f\" Hy is code {f.Hy}\")\n"
   ]
  },
  {
   "cell_type": "code",
   "execution_count": 3,
   "metadata": {},
   "outputs": [
    {
     "data": {
      "text/plain": [
       "{(0, 1, 1),\n",
       " (0, 1, 6),\n",
       " (0, 2, 2),\n",
       " (0, 3, 3),\n",
       " (1, 2, 5),\n",
       " (1, 3, 4),\n",
       " (2, 3, 6),\n",
       " (2, 3, 7)}"
      ]
     },
     "execution_count": 3,
     "metadata": {},
     "output_type": "execute_result"
    }
   ],
   "source": [
    "f.fundamental_matching_graph"
   ]
  },
  {
   "cell_type": "code",
   "execution_count": null,
   "metadata": {},
   "outputs": [],
   "source": [
    "f.fundamental_stabilizer_parity_check_matrix"
   ]
  },
  {
   "cell_type": "code",
   "execution_count": null,
   "metadata": {},
   "outputs": [],
   "source": []
  }
 ],
 "metadata": {
  "kernelspec": {
   "display_name": "Python 3.10.6 ('classic_fib')",
   "language": "python",
   "name": "python3"
  },
  "language_info": {
   "codemirror_mode": {
    "name": "ipython",
    "version": 3
   },
   "file_extension": ".py",
   "mimetype": "text/x-python",
   "name": "python",
   "nbconvert_exporter": "python",
   "pygments_lexer": "ipython3",
   "version": "3.10.6"
  },
  "orig_nbformat": 4,
  "vscode": {
   "interpreter": {
    "hash": "0cfd8349d9068e779fdd3d4489e9520d0db8583399452dfa1d4de39e4fa227d6"
   }
  }
 },
 "nbformat": 4,
 "nbformat_minor": 2
}
