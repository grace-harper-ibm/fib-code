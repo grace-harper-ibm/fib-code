{
 "cells": [
  {
   "cell_type": "code",
   "execution_count": 18,
   "metadata": {},
   "outputs": [],
   "source": [
    "from classic_fib import FibCode\n",
    "import numpy as np "
   ]
  },
  {
   "cell_type": "code",
   "execution_count": 22,
   "metadata": {},
   "outputs": [
    {
     "name": "stdout",
     "output_type": "stream",
     "text": [
      "initted original board\n",
      "[0 0 1 0 0 1 1 1]\n",
      "[1 1 1 0 1 1 1 1]\n"
     ]
    }
   ],
   "source": [
    "L = 4\n",
    "f = FibCode(L, p=0.24)\n",
    "print(\"initted original board\")\n",
    "print(f.original_code_board)\n",
    "print(f.board)\n"
   ]
  },
  {
   "cell_type": "code",
   "execution_count": 23,
   "metadata": {},
   "outputs": [
    {
     "ename": "ZeroDivisionError",
     "evalue": "integer division or modulo by zero",
     "output_type": "error",
     "traceback": [
      "\u001b[0;31m---------------------------------------------------------------------------\u001b[0m",
      "\u001b[0;31mZeroDivisionError\u001b[0m                         Traceback (most recent call last)",
      "\u001b[1;32m/Users/graceharperibm/correcting/classic_fib_decoder/dare.ipynb Cell 3\u001b[0m in \u001b[0;36m<cell line: 1>\u001b[0;34m()\u001b[0m\n\u001b[0;32m----> <a href='vscode-notebook-cell:/Users/graceharperibm/correcting/classic_fib_decoder/dare.ipynb#X11sZmlsZQ%3D%3D?line=0'>1</a>\u001b[0m f\u001b[39m.\u001b[39;49mdecode_fib_code()\n",
      "File \u001b[0;32m~/correcting/classic_fib_decoder/classic_fib.py:230\u001b[0m, in \u001b[0;36mdecode_fib_code\u001b[0;34m(self)\u001b[0m\n\u001b[1;32m    227\u001b[0m round_count \u001b[39m=\u001b[39m \u001b[39m0\u001b[39m\n\u001b[1;32m    229\u001b[0m \u001b[39mfor\u001b[39;00m _ \u001b[39min\u001b[39;00m \u001b[39mrange\u001b[39m(\u001b[39mself\u001b[39m\u001b[39m.\u001b[39mL\u001b[39m/\u001b[39m\u001b[39m/\u001b[39m\u001b[39m2\u001b[39m): \u001b[39m# will wrap around to all bits \u001b[39;00m\n\u001b[0;32m--> 230\u001b[0m     hori_stab_faces \u001b[39m=\u001b[39m \u001b[39mself\u001b[39m\u001b[39m.\u001b[39mshift_by_y(hori_stab_faces)\n\u001b[1;32m    231\u001b[0m     verti_stab_faces \u001b[39m=\u001b[39m \u001b[39mself\u001b[39m\u001b[39m.\u001b[39mshift_by_y(verti_stab_faces)\n\u001b[1;32m    232\u001b[0m     \u001b[39mfor\u001b[39;00m _ \u001b[39min\u001b[39;00m \u001b[39mrange\u001b[39m(\u001b[39mself\u001b[39m\u001b[39m.\u001b[39mL):\n",
      "\u001b[0;31mZeroDivisionError\u001b[0m: integer division or modulo by zero"
     ]
    }
   ],
   "source": [
    "f.decode_fib_code()\n"
   ]
  },
  {
   "cell_type": "code",
   "execution_count": null,
   "metadata": {},
   "outputs": [],
   "source": [
    "print(\"original board\")\n",
    "print(f.original_code_board)\n",
    "print()\n",
    "print(\"corrected board:\")\n",
    "print(f.board)\n"
   ]
  }
 ],
 "metadata": {
  "kernelspec": {
   "display_name": "Python 3.10.6 ('classic_fib')",
   "language": "python",
   "name": "python3"
  },
  "language_info": {
   "codemirror_mode": {
    "name": "ipython",
    "version": 3
   },
   "file_extension": ".py",
   "mimetype": "text/x-python",
   "name": "python",
   "nbconvert_exporter": "python",
   "pygments_lexer": "ipython3",
   "version": "3.10.6"
  },
  "orig_nbformat": 4,
  "vscode": {
   "interpreter": {
    "hash": "0cfd8349d9068e779fdd3d4489e9520d0db8583399452dfa1d4de39e4fa227d6"
   }
  }
 },
 "nbformat": 4,
 "nbformat_minor": 2
}
