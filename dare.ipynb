{
 "cells": [
  {
   "cell_type": "code",
   "execution_count": 1,
   "metadata": {},
   "outputs": [],
   "source": [
    "from classic_fib import FibCode\n",
    "import numpy as np "
   ]
  },
  {
   "cell_type": "code",
   "execution_count": null,
   "metadata": {},
   "outputs": [],
   "source": []
  },
  {
   "cell_type": "code",
   "execution_count": 3,
   "metadata": {},
   "outputs": [
    {
     "name": "stdout",
     "output_type": "stream",
     "text": [
      " original code baord is  [0 0 1 0 0 1 1 1]\n",
      " error board is code [0 0 1 0 0 1 1 1]\n",
      " initial symmetry is: [0 0 1 0 0 1 1 1]\n",
      "fundamental_stabilizer_parity_check_matrix is : [[0 1 1 1 0 0 1 0]\n",
      " [0 1 0 0 1 1 1 0]\n",
      " [0 0 1 0 0 1 1 1]\n",
      " [0 0 0 1 1 0 1 1]]\n",
      "fundamental_single_error_syndromes is : {(2, 3, 6), (1, 3, 4), (0, 3, 3), (0, 1, 6), (1, 2, 5), (2, 3, 7), (0, 2, 2), (0, 1, 1)}\n",
      " Hx [[0 0 0 1 0 0 0 0]\n",
      " [1 0 0 0 0 0 0 0]\n",
      " [0 1 0 0 0 0 0 0]\n",
      " [0 0 1 0 0 0 0 0]\n",
      " [0 0 0 0 0 0 0 1]\n",
      " [0 0 0 0 1 0 0 0]\n",
      " [0 0 0 0 0 1 0 0]\n",
      " [0 0 0 0 0 0 1 0]]\n",
      " Hy is code [[0 0 0 0 1 0 0 0]\n",
      " [0 0 0 0 0 1 0 0]\n",
      " [0 0 0 0 0 0 1 0]\n",
      " [0 0 0 0 0 0 0 1]\n",
      " [1 0 0 0 0 0 0 0]\n",
      " [0 1 0 0 0 0 0 0]\n",
      " [0 0 1 0 0 0 0 0]\n",
      " [0 0 0 1 0 0 0 0]]\n"
     ]
    },
    {
     "ename": "ValueError",
     "evalue": "The shape ((8,)) of the syndrome vector z is not valid.",
     "output_type": "error",
     "traceback": [
      "\u001b[0;31m---------------------------------------------------------------------------\u001b[0m",
      "\u001b[0;31mValueError\u001b[0m                                Traceback (most recent call last)",
      "\u001b[1;32m/Users/graceharperibm/correcting/classic_fib_decoder/dare.ipynb Cell 3\u001b[0m in \u001b[0;36m<cell line: 11>\u001b[0;34m()\u001b[0m\n\u001b[1;32m      <a href='vscode-notebook-cell:/Users/graceharperibm/correcting/classic_fib_decoder/dare.ipynb#W3sZmlsZQ%3D%3D?line=7'>8</a>\u001b[0m \u001b[39mprint\u001b[39m(\u001b[39mf\u001b[39m\u001b[39m\"\u001b[39m\u001b[39m Hx \u001b[39m\u001b[39m{\u001b[39;00mf\u001b[39m.\u001b[39mHx\u001b[39m}\u001b[39;00m\u001b[39m\"\u001b[39m)\n\u001b[1;32m      <a href='vscode-notebook-cell:/Users/graceharperibm/correcting/classic_fib_decoder/dare.ipynb#W3sZmlsZQ%3D%3D?line=8'>9</a>\u001b[0m \u001b[39mprint\u001b[39m(\u001b[39mf\u001b[39m\u001b[39m\"\u001b[39m\u001b[39m Hy is code \u001b[39m\u001b[39m{\u001b[39;00mf\u001b[39m.\u001b[39mHy\u001b[39m}\u001b[39;00m\u001b[39m\"\u001b[39m)\n\u001b[0;32m---> <a href='vscode-notebook-cell:/Users/graceharperibm/correcting/classic_fib_decoder/dare.ipynb#W3sZmlsZQ%3D%3D?line=10'>11</a>\u001b[0m f\u001b[39m.\u001b[39;49mdecode_fib_code()\n",
      "File \u001b[0;32m~/correcting/classic_fib_decoder/classic_fib.py:371\u001b[0m, in \u001b[0;36mFibCode.decode_fib_code\u001b[0;34m(self)\u001b[0m\n\u001b[1;32m    365\u001b[0m     \u001b[39mif\u001b[39;00m verti_syndrome_mat[i] \u001b[39m==\u001b[39m \u001b[39m1\u001b[39m:\n\u001b[1;32m    366\u001b[0m         verti_syndrome_post_graph[verti_matching_graph\u001b[39m.\u001b[39mnodes()\u001b[39m.\u001b[39mindex(i)] \u001b[39m=\u001b[39m \u001b[39m1\u001b[39m \n\u001b[0;32m--> 371\u001b[0m hori_prediction \u001b[39m=\u001b[39m hori_matching\u001b[39m.\u001b[39;49mdecode(hori_syndrome_post_graph) \n\u001b[1;32m    372\u001b[0m verti_prediction \u001b[39m=\u001b[39m verti_matching\u001b[39m.\u001b[39mdecode(verti_syndrome_post_graph) \n\u001b[1;32m    374\u001b[0m hboard \u001b[39m=\u001b[39m \u001b[39mself\u001b[39m\u001b[39m.\u001b[39mboard \u001b[39m^\u001b[39m hori_prediction \u001b[39m#apply correction \u001b[39;00m\n",
      "File \u001b[0;32m~/opt/miniconda3/envs/classic_fib/lib/python3.10/site-packages/pymatching/matching.py:319\u001b[0m, in \u001b[0;36mMatching.decode\u001b[0;34m(self, z, _legacy_num_neighbours, _legacy_return_weights, return_weight, **kwargs)\u001b[0m\n\u001b[1;32m    315\u001b[0m     warnings\u001b[39m.\u001b[39mwarn(\u001b[39m\"\u001b[39m\u001b[39mThe ``return_weights`` argument was provided as a positional argument, but in a future \u001b[39m\u001b[39m\"\u001b[39m\n\u001b[1;32m    316\u001b[0m                   \u001b[39m\"\u001b[39m\u001b[39mversion of PyMatching, it will be required to provide ``return_weights`` as a keyword \u001b[39m\u001b[39m\"\u001b[39m\n\u001b[1;32m    317\u001b[0m                   \u001b[39m\"\u001b[39m\u001b[39margument.\u001b[39m\u001b[39m\"\u001b[39m)\n\u001b[1;32m    318\u001b[0m     return_weight \u001b[39m=\u001b[39m _legacy_return_weights\n\u001b[0;32m--> 319\u001b[0m detection_events \u001b[39m=\u001b[39m \u001b[39mself\u001b[39;49m\u001b[39m.\u001b[39;49m_syndrome_array_to_detection_events(z)\n\u001b[1;32m    320\u001b[0m correction, weight \u001b[39m=\u001b[39m \u001b[39mself\u001b[39m\u001b[39m.\u001b[39m_matching_graph\u001b[39m.\u001b[39mdecode(detection_events)\n\u001b[1;32m    321\u001b[0m \u001b[39mif\u001b[39;00m return_weight:\n",
      "File \u001b[0;32m~/opt/miniconda3/envs/classic_fib/lib/python3.10/site-packages/pymatching/matching.py:189\u001b[0m, in \u001b[0;36mMatching._syndrome_array_to_detection_events\u001b[0;34m(self, z)\u001b[0m\n\u001b[1;32m    187\u001b[0m     detection_events \u001b[39m=\u001b[39m times \u001b[39m*\u001b[39m z\u001b[39m.\u001b[39mshape[\u001b[39m0\u001b[39m] \u001b[39m+\u001b[39m checks\n\u001b[1;32m    188\u001b[0m \u001b[39melse\u001b[39;00m:\n\u001b[0;32m--> 189\u001b[0m     \u001b[39mraise\u001b[39;00m \u001b[39mValueError\u001b[39;00m(\u001b[39m\"\u001b[39m\u001b[39mThe shape (\u001b[39m\u001b[39m{}\u001b[39;00m\u001b[39m) of the syndrome vector z is not valid.\u001b[39m\u001b[39m\"\u001b[39m\u001b[39m.\u001b[39mformat(z\u001b[39m.\u001b[39mshape))\n\u001b[1;32m    190\u001b[0m \u001b[39mreturn\u001b[39;00m detection_events\n",
      "\u001b[0;31mValueError\u001b[0m: The shape ((8,)) of the syndrome vector z is not valid."
     ]
    }
   ],
   "source": [
    "f = FibCode(4)\n",
    "\n",
    "print(f\" original code baord is  {f.original_code_board}\")\n",
    "print(f\" error board is code {f.board}\")\n",
    "print(f\" initial symmetry is: {f.fundamental_symmetry}\")\n",
    "print(f\"fundamental_stabilizer_parity_check_matrix is : {f.fundamental_stabilizer_parity_check_matrix}\")\n",
    "print(f\"fundamental_single_error_syndromes is : {f.fundamental_single_error_syndromes}\")\n",
    "print(f\" Hx {f.Hx}\")\n",
    "print(f\" Hy is code {f.Hy}\")\n",
    "\n",
    "f.decode_fib_code()\n"
   ]
  },
  {
   "cell_type": "code",
   "execution_count": null,
   "metadata": {},
   "outputs": [],
   "source": [
    "f.fundamental_matching_graph"
   ]
  },
  {
   "cell_type": "code",
   "execution_count": null,
   "metadata": {},
   "outputs": [],
   "source": [
    "f.fundamental_stabilizer_parity_check_matrix"
   ]
  },
  {
   "cell_type": "code",
   "execution_count": null,
   "metadata": {},
   "outputs": [],
   "source": []
  }
 ],
 "metadata": {
  "kernelspec": {
   "display_name": "Python 3.10.6 ('classic_fib')",
   "language": "python",
   "name": "python3"
  },
  "language_info": {
   "codemirror_mode": {
    "name": "ipython",
    "version": 3
   },
   "file_extension": ".py",
   "mimetype": "text/x-python",
   "name": "python",
   "nbconvert_exporter": "python",
   "pygments_lexer": "ipython3",
   "version": "3.10.6"
  },
  "orig_nbformat": 4,
  "vscode": {
   "interpreter": {
    "hash": "0cfd8349d9068e779fdd3d4489e9520d0db8583399452dfa1d4de39e4fa227d6"
   }
  }
 },
 "nbformat": 4,
 "nbformat_minor": 2
}
